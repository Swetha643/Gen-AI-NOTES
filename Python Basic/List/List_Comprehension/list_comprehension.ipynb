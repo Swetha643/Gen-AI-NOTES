{
 "cells": [
  {
   "cell_type": "code",
   "execution_count": null,
   "id": "9a4319f1",
   "metadata": {},
   "outputs": [],
   "source": [
    "newlist = [\"Group\", 45, 56,7, 'c']\n",
    "newlist"
   ]
  },
  {
   "cell_type": "code",
   "execution_count": null,
   "id": "e8f3c9c9",
   "metadata": {},
   "outputs": [],
   "source": [
    "newtuple = (445, 55, 77)\n",
    "newtuple"
   ]
  },
  {
   "cell_type": "code",
   "execution_count": null,
   "id": "3f4263a9",
   "metadata": {},
   "outputs": [],
   "source": [
    "newdict = {45:67, \"Aadhar\":234456557789, \"PAN\":\"FFGGD4567B\"}\n",
    "newdict"
   ]
  },
  {
   "cell_type": "code",
   "execution_count": null,
   "id": "d8de5876",
   "metadata": {},
   "outputs": [],
   "source": [
    "newlist = { 45, 66, 77, 88, 99}\n",
    "newlist"
   ]
  },
  {
   "cell_type": "code",
   "execution_count": null,
   "id": "6d9b4c44",
   "metadata": {},
   "outputs": [],
   "source": [
    "numbers = [x for x in range(6,10)]\n",
    "print(numbers)"
   ]
  },
  {
   "cell_type": "code",
   "execution_count": null,
   "id": "1d1b3e5d",
   "metadata": {},
   "outputs": [],
   "source": [
    "print([x for x in range(6,10)])"
   ]
  },
  {
   "cell_type": "code",
   "execution_count": 1,
   "id": "31285a71",
   "metadata": {},
   "outputs": [
    {
     "name": "stdout",
     "output_type": "stream",
     "text": [
      "[2, 4, 6, 8, 10, 12, 14, 16, 18, 20, 22, 24, 26, 28, 30, 32, 34, 36, 38, 40, 42, 44, 46, 48]\n"
     ]
    }
   ],
   "source": [
    "print([x for x in range(1,50) if x % 2 == 0])"
   ]
  },
  {
   "cell_type": "code",
   "execution_count": 4,
   "id": "38cd78e6",
   "metadata": {},
   "outputs": [
    {
     "name": "stdout",
     "output_type": "stream",
     "text": [
      "[1.4142135623730951, 2.0, 2.449489742783178, 2.8284271247461903, 3.1622776601683795]\n"
     ]
    }
   ],
   "source": [
    "import math\n",
    "print([math.sqrt(x) for x in range(1,11) if x % 2 == 0])"
   ]
  },
  {
   "cell_type": "code",
   "execution_count": null,
   "id": "4878501f",
   "metadata": {},
   "outputs": [],
   "source": [
    "print({x*x for x in range(1,11) if x % 2 == 0})"
   ]
  },
  {
   "cell_type": "code",
   "execution_count": 5,
   "id": "732d38a8",
   "metadata": {},
   "outputs": [
    {
     "name": "stdout",
     "output_type": "stream",
     "text": [
      "{1: 1, 3: 27, 5: 125, 7: 343, 9: 729}\n"
     ]
    }
   ],
   "source": [
    "print({x:x*x*x for x in range(1,11) if x % 2 != 0})"
   ]
  },
  {
   "cell_type": "code",
   "execution_count": 6,
   "id": "846f662c",
   "metadata": {},
   "outputs": [
    {
     "name": "stdout",
     "output_type": "stream",
     "text": [
      "{1: 1, 3: 27, 5: 125, 7: 343, 9: 729}\n"
     ]
    }
   ],
   "source": [
    "newdict = dict()\n",
    "for x in range(1,11):\n",
    "    if x%2 != 0:\n",
    "        newdict[x] = x*x*x\n",
    "print(newdict)"
   ]
  },
  {
   "cell_type": "code",
   "execution_count": null,
   "id": "d9f59e8f",
   "metadata": {},
   "outputs": [],
   "source": [
    "print((x*x for x in range(1,11) if x % 2 == 0))"
   ]
  },
  {
   "cell_type": "code",
   "execution_count": null,
   "id": "65256c33",
   "metadata": {},
   "outputs": [],
   "source": [
    "import math\n",
    "print({math.sqrt(x) for x in range(1,10) if x % 2 == 0})"
   ]
  },
  {
   "cell_type": "code",
   "execution_count": null,
   "id": "7011cd2a",
   "metadata": {},
   "outputs": [],
   "source": [
    "newlist = [4,1,9,23,34,45,81]"
   ]
  },
  {
   "cell_type": "code",
   "execution_count": 7,
   "id": "6d9230d8",
   "metadata": {},
   "outputs": [
    {
     "name": "stdout",
     "output_type": "stream",
     "text": [
      "[2, 3, 5, 7, 11, 13, 17, 19, 23, 29, 31, 37, 41, 43, 47, 53, 59, 61, 67, 71, 73, 79, 83, 89, 97]\n"
     ]
    }
   ],
   "source": [
    "print([x for x in range(2,100) if all(x % y != 0 for y in range(2,x))])"
   ]
  },
  {
   "cell_type": "code",
   "execution_count": null,
   "id": "c1012b4e",
   "metadata": {},
   "outputs": [],
   "source": [
    "print([x for x in range(2,100) if any(x % y != 0 for y in range(2,x))])"
   ]
  },
  {
   "cell_type": "code",
   "execution_count": null,
   "id": "37d9fa7d",
   "metadata": {},
   "outputs": [],
   "source": [
    "# use the power of list comprehension to generate perfect number series"
   ]
  },
  {
   "cell_type": "code",
   "execution_count": null,
   "id": "79ee022b",
   "metadata": {},
   "outputs": [],
   "source": [
    "# use any function in prime number generation and write the list comprehension"
   ]
  },
  {
   "cell_type": "code",
   "execution_count": null,
   "id": "c5d877e3",
   "metadata": {},
   "outputs": [],
   "source": [
    "print ([x for x in range (2,100)  if not any (x%y ==0 for y in range (2,x))])"
   ]
  },
  {
   "cell_type": "code",
   "execution_count": null,
   "id": "bd77252e",
   "metadata": {},
   "outputs": [],
   "source": []
  }
 ],
 "metadata": {
  "kernelspec": {
   "display_name": "Python 3 (ipykernel)",
   "language": "python",
   "name": "python3"
  },
  "language_info": {
   "codemirror_mode": {
    "name": "ipython",
    "version": 3
   },
   "file_extension": ".py",
   "mimetype": "text/x-python",
   "name": "python",
   "nbconvert_exporter": "python",
   "pygments_lexer": "ipython3",
   "version": "3.10.9"
  }
 },
 "nbformat": 4,
 "nbformat_minor": 5
}
